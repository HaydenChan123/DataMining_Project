{
 "cells": [
  {
   "cell_type": "code",
   "execution_count": 19,
   "metadata": {},
   "outputs": [
    {
     "data": {
      "text/html": [
       "<div>\n",
       "<style scoped>\n",
       "    .dataframe tbody tr th:only-of-type {\n",
       "        vertical-align: middle;\n",
       "    }\n",
       "\n",
       "    .dataframe tbody tr th {\n",
       "        vertical-align: top;\n",
       "    }\n",
       "\n",
       "    .dataframe thead th {\n",
       "        text-align: right;\n",
       "    }\n",
       "</style>\n",
       "<table border=\"1\" class=\"dataframe\">\n",
       "  <thead>\n",
       "    <tr style=\"text-align: right;\">\n",
       "      <th></th>\n",
       "      <th>Names</th>\n",
       "      <th>Price</th>\n",
       "      <th>changes</th>\n",
       "      <th>Prev</th>\n",
       "      <th>Open</th>\n",
       "      <th>Day's Range</th>\n",
       "    </tr>\n",
       "  </thead>\n",
       "  <tbody>\n",
       "    <tr>\n",
       "      <td>0</td>\n",
       "      <td>INR=X - USD/INR</td>\n",
       "      <td>70.66</td>\n",
       "      <td>0.0000 (0.0000%)</td>\n",
       "      <td>70.66</td>\n",
       "      <td>N/A</td>\n",
       "      <td>70.66 - 70.66</td>\n",
       "    </tr>\n",
       "  </tbody>\n",
       "</table>\n",
       "</div>"
      ],
      "text/plain": [
       "             Names  Price           changes   Prev Open    Day's Range\n",
       "0  INR=X - USD/INR  70.66  0.0000 (0.0000%)  70.66  N/A  70.66 - 70.66"
      ]
     },
     "execution_count": 19,
     "metadata": {},
     "output_type": "execute_result"
    }
   ],
   "source": [
    "from bs4 import BeautifulSoup\n",
    "import requests\n",
    "import numpy as np\n",
    "import pandas as pd\n",
    "forex = \"https://in.finance.yahoo.com/quote/INR%3DX?p=INR%3DX\"\n",
    "r= requests.get(forex)#Check page can be accessed \n",
    "# print(r.text)\n",
    "data=r.text #Take html ==> text put into data variable \n",
    "soup=BeautifulSoup(data)\n",
    "names=[]\n",
    "openss=[]\n",
    "bs=[]\n",
    "changes=[]\n",
    "prices=[]\n",
    "prevs=[]\n",
    "\n",
    "\n",
    "# Initialize all array\n",
    "i=7\n",
    "# for listing in soup.find_all('span', attrs={'data-reactid':i}):\n",
    "for name in soup.find_all('h1', attrs={'data-reactid':i}):\n",
    "    names.append(name.text)\n",
    "for price in soup.find_all('span', attrs={'data-reactid':i+18}):\n",
    "    prices.append(price.text)\n",
    "for change in soup.find_all('span', attrs={'data-reactid':i+9}):\n",
    "    changes.append(change.text)\n",
    "for prev in soup.find_all('span', attrs={'data-reactid':15}):\n",
    "    prevs.append(prev.text)\n",
    "for opens in soup.find_all('span', attrs={'data-reactid':i+13}):\n",
    "    openss.append(opens.text)\n",
    "for b in soup.find_all('td', attrs={'data-reactid':i+25}):\n",
    "    bs.append(b.text)\n",
    "# for price in soup.find_all('span', attrs={'data-reactid':i-5}):\n",
    "#     prices.append(price.text)\n",
    "#     for change in listing.find_all('td', attrs={'data-reactid':i+5}):\n",
    "#         changes.append(change.text)\n",
    "#     for percentChange in listing.find_all('td', attrs={'data-reactid':i+7}):\n",
    "#         percentChanges.append(percentChange.text)\n",
    "# prices\n",
    "# print(soup.find_all('span', attrs={'data-reactid':\"20\"}))\n",
    "usd=pd.DataFrame({\"Names\": names,\"Price\" :prices,\"changes\":changes, \"Prev\": prevs, \"Open\": openss, \"Day's Range\":bs})\n",
    "# df[\"Prices\"] = df[\"Prices\"].str.replace(\",\",\"\")\n",
    "usd"
   ]
  },
  {
   "cell_type": "code",
   "execution_count": 20,
   "metadata": {},
   "outputs": [],
   "source": [
    "usd.to_csv (r'C:\\Users\\Forge 15 i7\\Desktop\\UM 2nd Semester\\WQD 7005 -Data Mining\\Project\\Data Acquisition\\Data Acquisition\\structuredDataSet\\usd1214_1231.csv',index = None)"
   ]
  },
  {
   "cell_type": "code",
   "execution_count": 21,
   "metadata": {},
   "outputs": [
    {
     "data": {
      "text/html": [
       "<div>\n",
       "<style scoped>\n",
       "    .dataframe tbody tr th:only-of-type {\n",
       "        vertical-align: middle;\n",
       "    }\n",
       "\n",
       "    .dataframe tbody tr th {\n",
       "        vertical-align: top;\n",
       "    }\n",
       "\n",
       "    .dataframe thead th {\n",
       "        text-align: right;\n",
       "    }\n",
       "</style>\n",
       "<table border=\"1\" class=\"dataframe\">\n",
       "  <thead>\n",
       "    <tr style=\"text-align: right;\">\n",
       "      <th></th>\n",
       "      <th>Names</th>\n",
       "      <th>Price</th>\n",
       "      <th>changes</th>\n",
       "      <th>Prev</th>\n",
       "      <th>Open</th>\n",
       "      <th>Day's Range</th>\n",
       "    </tr>\n",
       "  </thead>\n",
       "  <tbody>\n",
       "    <tr>\n",
       "      <td>0</td>\n",
       "      <td>EURINR=X - EUR/INR</td>\n",
       "      <td>78.602</td>\n",
       "      <td>0.0000 (0.00%)</td>\n",
       "      <td>78.602</td>\n",
       "      <td>N/A</td>\n",
       "      <td>78.602 - 78.602</td>\n",
       "    </tr>\n",
       "  </tbody>\n",
       "</table>\n",
       "</div>"
      ],
      "text/plain": [
       "                Names   Price         changes    Prev Open      Day's Range\n",
       "0  EURINR=X - EUR/INR  78.602  0.0000 (0.00%)  78.602  N/A  78.602 - 78.602"
      ]
     },
     "execution_count": 21,
     "metadata": {},
     "output_type": "execute_result"
    }
   ],
   "source": [
    "from bs4 import BeautifulSoup\n",
    "import requests\n",
    "import numpy as np\n",
    "import pandas as pd\n",
    "forex = \"https://in.finance.yahoo.com/quote/EURINR%3DX?p=EURINR%3DX\"\n",
    "r= requests.get(forex)#Check page can be accessed \n",
    "# print(r.text)\n",
    "data=r.text #Take html ==> text put into data variable \n",
    "soup=BeautifulSoup(data)\n",
    "names=[]\n",
    "openss=[]\n",
    "bs=[]\n",
    "changes=[]\n",
    "prices=[]\n",
    "prevs=[]\n",
    "\n",
    "\n",
    "# Initialize all array\n",
    "i=7\n",
    "# for listing in soup.find_all('span', attrs={'data-reactid':i}):\n",
    "for name in soup.find_all('h1', attrs={'data-reactid':i}):\n",
    "    names.append(name.text)\n",
    "for price in soup.find_all('span', attrs={'data-reactid':i+18}):\n",
    "    prices.append(price.text)\n",
    "for change in soup.find_all('span', attrs={'data-reactid':i+9}):\n",
    "    changes.append(change.text)\n",
    "for prev in soup.find_all('span', attrs={'data-reactid':15}):\n",
    "    prevs.append(prev.text)\n",
    "for opens in soup.find_all('span', attrs={'data-reactid':i+13}):\n",
    "    openss.append(opens.text)\n",
    "for b in soup.find_all('td', attrs={'data-reactid':i+25}):\n",
    "    bs.append(b.text)\n",
    "# for price in soup.find_all('span', attrs={'data-reactid':i-5}):\n",
    "#     prices.append(price.text)\n",
    "#     for change in listing.find_all('td', attrs={'data-reactid':i+5}):\n",
    "#         changes.append(change.text)\n",
    "#     for percentChange in listing.find_all('td', attrs={'data-reactid':i+7}):\n",
    "#         percentChanges.append(percentChange.text)\n",
    "# prices\n",
    "# print(soup.find_all('span', attrs={'data-reactid':\"20\"}))\n",
    "eur=pd.DataFrame({\"Names\": names,\"Price\" :prices,\"changes\":changes, \"Prev\": prevs, \"Open\": openss, \"Day's Range\":bs})\n",
    "# df[\"Prices\"] = df[\"Prices\"].str.replace(\",\",\"\")\n",
    "eur"
   ]
  },
  {
   "cell_type": "code",
   "execution_count": 22,
   "metadata": {},
   "outputs": [],
   "source": [
    "eur.to_csv (r'C:\\Users\\Forge 15 i7\\Desktop\\UM 2nd Semester\\WQD 7005 -Data Mining\\Project\\Data Acquisition\\Data Acquisition\\structuredDataSet\\eur1214_1231.csv',index = None)"
   ]
  },
  {
   "cell_type": "markdown",
   "metadata": {},
   "source": [
    "# print(soup)"
   ]
  },
  {
   "cell_type": "code",
   "execution_count": null,
   "metadata": {},
   "outputs": [],
   "source": [
    "# names=[]\n",
    "# openss=[]\n",
    "# bs=[]\n",
    "# changes=[]\n",
    "# prices=[]\n",
    "# prevs=[]\n",
    "\n",
    "\n",
    "# # Initialize all array"
   ]
  },
  {
   "cell_type": "code",
   "execution_count": null,
   "metadata": {},
   "outputs": [],
   "source": [
    "# i=7\n",
    "# # for listing in soup.find_all('span', attrs={'data-reactid':i}):\n",
    "# for name in soup.find_all('h1', attrs={'data-reactid':i}):\n",
    "#     names.append(name.text)\n",
    "# for price in soup.find_all('span', attrs={'data-reactid':i+18}):\n",
    "#     prices.append(price.text)\n",
    "# for change in soup.find_all('span', attrs={'data-reactid':i+9}):\n",
    "#     changes.append(change.text)\n",
    "# for prev in soup.find_all('span', attrs={'data-reactid':15}):\n",
    "#     prevs.append(prev.text)\n",
    "# for opens in soup.find_all('span', attrs={'data-reactid':i+13}):\n",
    "#     openss.append(opens.text)\n",
    "# for b in soup.find_all('td', attrs={'data-reactid':i+25}):\n",
    "#     bs.append(b.text)\n",
    "# # for price in soup.find_all('span', attrs={'data-reactid':i-5}):\n",
    "# #     prices.append(price.text)\n",
    "# #     for change in listing.find_all('td', attrs={'data-reactid':i+5}):\n",
    "# #         changes.append(change.text)\n",
    "# #     for percentChange in listing.find_all('td', attrs={'data-reactid':i+7}):\n",
    "# #         percentChanges.append(percentChange.text)\n",
    "# prices\n",
    "# # print(soup.find_all('span', attrs={'data-reactid':\"20\"}))"
   ]
  },
  {
   "cell_type": "code",
   "execution_count": null,
   "metadata": {},
   "outputs": [],
   "source": [
    "# df=pd.DataFrame({\"Names\": names,\"Price\" :prices,\"changes\":changes, \"Prev\": prevs, \"Open\": openss, \"Day's Range\":bs})\n",
    "# # df[\"Prices\"] = df[\"Prices\"].str.replace(\",\",\"\")\n",
    "# df"
   ]
  },
  {
   "cell_type": "code",
   "execution_count": null,
   "metadata": {},
   "outputs": [],
   "source": [
    "# df.to_csv (r'C:\\Users\\Forge 15 i7\\Desktop\\UM 2nd Semester\\WQD 7005 -Data Mining\\Project\\Data Acquisition\\Data Acquisition\\structuredDataSet\\1107_0240.csv',index = None)"
   ]
  },
  {
   "cell_type": "code",
   "execution_count": null,
   "metadata": {},
   "outputs": [],
   "source": []
  },
  {
   "cell_type": "code",
   "execution_count": null,
   "metadata": {},
   "outputs": [],
   "source": []
  }
 ],
 "metadata": {
  "kernelspec": {
   "display_name": "Python 3",
   "language": "python",
   "name": "python3"
  },
  "language_info": {
   "codemirror_mode": {
    "name": "ipython",
    "version": 3
   },
   "file_extension": ".py",
   "mimetype": "text/x-python",
   "name": "python",
   "nbconvert_exporter": "python",
   "pygments_lexer": "ipython3",
   "version": "3.7.4"
  }
 },
 "nbformat": 4,
 "nbformat_minor": 2
}
