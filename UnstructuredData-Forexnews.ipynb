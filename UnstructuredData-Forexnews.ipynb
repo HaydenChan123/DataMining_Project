{
 "cells": [
  {
   "cell_type": "code",
   "execution_count": 1,
   "metadata": {},
   "outputs": [],
   "source": [
    "from bs4 import BeautifulSoup\n",
    "import requests\n",
    "import numpy as np\n",
    "import pandas as pd"
   ]
  },
  {
   "cell_type": "markdown",
   "metadata": {},
   "source": [
    "## Request is used to get access to the webpage and check the response "
   ]
  },
  {
   "cell_type": "code",
   "execution_count": 2,
   "metadata": {},
   "outputs": [
    {
     "data": {
      "text/plain": [
       "<Response [200]>"
      ]
     },
     "execution_count": 2,
     "metadata": {},
     "output_type": "execute_result"
    }
   ],
   "source": [
    "page = requests.get(\"https://www.mitrade.com/financial-tools/news/forex\")\n",
    "page"
   ]
  },
  {
   "cell_type": "markdown",
   "metadata": {},
   "source": [
    "## The request has succeeded"
   ]
  },
  {
   "cell_type": "markdown",
   "metadata": {},
   "source": [
    "## BeautifulSoup is used to parse the html page "
   ]
  },
  {
   "cell_type": "code",
   "execution_count": 3,
   "metadata": {},
   "outputs": [],
   "source": [
    "soup = BeautifulSoup(page.content, 'html.parser')"
   ]
  },
  {
   "cell_type": "markdown",
   "metadata": {},
   "source": [
    "## Use find to pull out all html 'div' tags that has the class of col-lg-6"
   ]
  },
  {
   "cell_type": "code",
   "execution_count": 4,
   "metadata": {},
   "outputs": [
    {
     "data": {
      "text/plain": [
       "[<div class=\"col-lg-6 col-xs-12\">\n",
       " <img class=\"lazy\" data-original=\"https://editorial.blob.core.windows.net/images/Macroeconomics/CentralBanks/PBOC/bank-of-china-building-19125720_XtraLarge.jpg\"/>\n",
       " </div>, <div class=\"col-lg-6 col-xs-12\">\n",
       " <span>USDCNY | PBOC</span>\n",
       " <h4>PBOC sets Yuan reference rate at 6.9971</h4>\n",
       " <p>The People's Bank of China (PBOC) has set the Yuan reference rate at 6.9971 versus Monday's fix at 6.9915....</p>\n",
       " <p>2019-12-17 01:15 (GMT+) </p>\n",
       " </div>, <div class=\"col-lg-6 visible-xs\">\n",
       " <img class=\"lazy\" data-original=\"https://editorial.blob.core.windows.net/images/Macroeconomics/Countries/Asia/China/bejing-tiananmen-gate-4846311_Small.jpg\"/>\n",
       " </div>, <div class=\"col-lg-6\">\n",
       " <span>\n",
       "                                                                             China |                                                                            AUDUSD                                    \n",
       "                                 </span>\n",
       " <p>Fitch says Chinese steel production to fall in 2020; profitability to recover</p>\n",
       " <span>2019-12-17 01:15 (GMT+)</span>\n",
       " </div>, <div class=\"col-lg-6 hidden-xs\">\n",
       " <img class=\"lazy\" data-original=\"https://editorial.blob.core.windows.net/images/Macroeconomics/Countries/Asia/China/bejing-tiananmen-gate-4846311_Small.jpg\"/>\n",
       " </div>, <div class=\"col-lg-6 visible-xs\">\n",
       " <img class=\"lazy\" data-original=\"https://editorial.blob.core.windows.net/images/Markets/Currencies/Majors/EURUSD/piggy-bank-with-falling-coins-gm501156640-79268421_Small.jpg\"/>\n",
       " </div>, <div class=\"col-lg-6\">\n",
       " <span>\n",
       "                                                                             EURUSD |                                                                            Technical Analysis |                                                                            Majors |                                                                            SupportResistance |                                                                            ChartPatterns                                    \n",
       "                                 </span>\n",
       " <p>EUR/USD Technical Analysis: Positive beyond 1.1110/15 support-confluence</p>\n",
       " <span>2019-12-17 01:04 (GMT+)</span>\n",
       " </div>, <div class=\"col-lg-6 hidden-xs\">\n",
       " <img class=\"lazy\" data-original=\"https://editorial.blob.core.windows.net/images/Markets/Currencies/Majors/EURUSD/piggy-bank-with-falling-coins-gm501156640-79268421_Small.jpg\"/>\n",
       " </div>, <div class=\"col-lg-6 visible-xs\">\n",
       " <img class=\"lazy\" data-original=\"https://editorial.blob.core.windows.net/images/Markets/Currencies/Majors/AUDUSD/australian-currency-18259170_Small.jpg\"/>\n",
       " </div>, <div class=\"col-lg-6\">\n",
       " <span>\n",
       "                                                                             RBA |                                                                            AUDUSD                                    \n",
       "                                 </span>\n",
       " <p>AUD/USD keeps losses after RBA minutes</p>\n",
       " <span>2019-12-17 00:47 (GMT+)</span>\n",
       " </div>, <div class=\"col-lg-6 hidden-xs\">\n",
       " <img class=\"lazy\" data-original=\"https://editorial.blob.core.windows.net/images/Markets/Currencies/Majors/AUDUSD/australian-currency-18259170_Small.jpg\"/>\n",
       " </div>, <div class=\"col-lg-6 visible-xs\">\n",
       " <img class=\"lazy\" data-original=\"https://editorial.blob.core.windows.net/images/Markets/Currencies/Crosses/AUDJPY/forex-australia-and-japanese-currency-pair-with-calculator-4780678_Small.jpg\"/>\n",
       " </div>, <div class=\"col-lg-6\">\n",
       " <span>\n",
       "                                                                             AUDJPY |                                                                            RBA |                                                                            Macroeconomics |                                                                            TradeWar |                                                                            RiskAppetite                                    \n",
       "                                 </span>\n",
       " <p>AUD/JPY drops to intra-day low after dovish RBA minutes</p>\n",
       " <span>2019-12-17 00:43 (GMT+)</span>\n",
       " </div>, <div class=\"col-lg-6 hidden-xs\">\n",
       " <img class=\"lazy\" data-original=\"https://editorial.blob.core.windows.net/images/Markets/Currencies/Crosses/AUDJPY/forex-australia-and-japanese-currency-pair-with-calculator-4780678_Small.jpg\"/>\n",
       " </div>, <div class=\"col-lg-6 visible-xs\">\n",
       " <img class=\"lazy\" data-original=\"https://editorial.blob.core.windows.net/images/Macroeconomics/CentralBanks/RBA/iStock-950974992_Small.jpg\"/>\n",
       " </div>, <div class=\"col-lg-6\">\n",
       " <span>\n",
       "                                                                             RBA |                                                                            CentralBanks |                                                                            AUDUSD                                    \n",
       "                                 </span>\n",
       " <p>RBA Minutes: Ready to ease again, economy has reached gentel turning point</p>\n",
       " <span>2019-12-17 00:31 (GMT+)</span>\n",
       " </div>, <div class=\"col-lg-6 hidden-xs\">\n",
       " <img class=\"lazy\" data-original=\"https://editorial.blob.core.windows.net/images/Macroeconomics/CentralBanks/RBA/iStock-950974992_Small.jpg\"/>\n",
       " </div>, <div class=\"col-lg-6 visible-xs\">\n",
       " <img class=\"lazy\" data-original=\"https://editorial.blob.core.windows.net/images/Markets/Currencies/Majors/NZDUSD/kiwi-dollar-62496010_Small.jpg\"/>\n",
       " </div>, <div class=\"col-lg-6\">\n",
       " <span>\n",
       "                                                                             NZDUSD                                    \n",
       "                                 </span>\n",
       " <p>NZD/USD holds below 0.66 after NZ business confidence data</p>\n",
       " <span>2019-12-17 00:26 (GMT+)</span>\n",
       " </div>, <div class=\"col-lg-6 hidden-xs\">\n",
       " <img class=\"lazy\" data-original=\"https://editorial.blob.core.windows.net/images/Markets/Currencies/Majors/NZDUSD/kiwi-dollar-62496010_Small.jpg\"/>\n",
       " </div>, <div class=\"col-lg-6 visible-xs\">\n",
       " <img class=\"lazy\" data-original=\"https://editorial.blob.core.windows.net/images/Markets/Currencies/Majors/USDJPY/japanese-yen1_Small.jpg\"/>\n",
       " </div>, <div class=\"col-lg-6\">\n",
       " <span>\n",
       "                                                                             USDJPY |                                                                            RiskAppetite |                                                                            Brexit |                                                                            TradeWar |                                                                            Macroeconomics                                    \n",
       "                                 </span>\n",
       " <p>USD/JPY looks for direction around 109.60 amid doubts over US-China trade/Brexit</p>\n",
       " <span>2019-12-17 00:23 (GMT+)</span>\n",
       " </div>, <div class=\"col-lg-6 hidden-xs\">\n",
       " <img class=\"lazy\" data-original=\"https://editorial.blob.core.windows.net/images/Markets/Currencies/Majors/USDJPY/japanese-yen1_Small.jpg\"/>\n",
       " </div>, <div class=\"col-lg-6 visible-xs\">\n",
       " <img class=\"lazy\" data-original=\"https://editorial.blob.core.windows.net/images/Markets/Currencies/Crosses/GBPJPY/iStock-1151541926_Small.jpg\"/>\n",
       " </div>, <div class=\"col-lg-6\">\n",
       " <span>\n",
       "                                                                             GBPJPY |                                                                            Technical Analysis |                                                                            SwingTrading |                                                                            Momentum |                                                                            Crosses                                    \n",
       "                                 </span>\n",
       " <p>GBP/JPY Technical Analysis: 61.8% Fibonacci questions pullback from 200-week EMA</p>\n",
       " <span>2019-12-16 23:49 (GMT+)</span>\n",
       " </div>, <div class=\"col-lg-6 hidden-xs\">\n",
       " <img class=\"lazy\" data-original=\"https://editorial.blob.core.windows.net/images/Markets/Currencies/Crosses/GBPJPY/iStock-1151541926_Small.jpg\"/>\n",
       " </div>, <div class=\"col-lg-6 visible-xs\">\n",
       " <img class=\"lazy\" data-original=\"https://editorial.blob.core.windows.net/images/Markets/Currencies/Majors/GBPUSD/iStock-688526532_Small.jpg\"/>\n",
       " </div>, <div class=\"col-lg-6\">\n",
       " <span>\n",
       "                                                                             GBPUSD |                                                                            Brexit |                                                                            RiskAppetite |                                                                            Macroeconomics |                                                                            Majors                                    \n",
       "                                 </span>\n",
       " <p>GBP/USD drops to sub-1.3300 area amid Brexit concerns</p>\n",
       " <span>2019-12-16 23:27 (GMT+)</span>\n",
       " </div>, <div class=\"col-lg-6 hidden-xs\">\n",
       " <img class=\"lazy\" data-original=\"https://editorial.blob.core.windows.net/images/Markets/Currencies/Majors/GBPUSD/iStock-688526532_Small.jpg\"/>\n",
       " </div>]"
      ]
     },
     "execution_count": 4,
     "metadata": {},
     "output_type": "execute_result"
    }
   ],
   "source": [
    "title_list=soup.find_all('div',class_=\"col-lg-6\")\n",
    "title_list"
   ]
  },
  {
   "cell_type": "markdown",
   "metadata": {},
   "source": [
    "## Use find to pull out the all p in title_list and get all the text with p tags"
   ]
  },
  {
   "cell_type": "code",
   "execution_count": 5,
   "metadata": {},
   "outputs": [
    {
     "data": {
      "text/plain": [
       "[\"The People's Bank of China (PBOC) has set the Yuan reference rate at 6.9971 versus Monday's fix at 6.9915....\",\n",
       " 'Fitch says Chinese steel production to fall in 2020; profitability to recover',\n",
       " 'EUR/USD Technical Analysis: Positive beyond 1.1110/15 support-confluence',\n",
       " 'AUD/USD keeps losses after RBA minutes',\n",
       " 'AUD/JPY drops to intra-day low after dovish RBA minutes',\n",
       " 'RBA Minutes: Ready to ease again, economy has reached gentel turning point',\n",
       " 'NZD/USD holds below 0.66 after NZ business confidence data',\n",
       " 'USD/JPY looks for direction around 109.60 amid doubts over US-China trade/Brexit',\n",
       " 'GBP/JPY Technical Analysis: 61.8% Fibonacci questions pullback from 200-week EMA',\n",
       " 'GBP/USD drops to sub-1.3300 area amid Brexit concerns']"
      ]
     },
     "execution_count": 5,
     "metadata": {},
     "output_type": "execute_result"
    }
   ],
   "source": [
    "titles = []\n",
    "for tt in title_list:\n",
    "    if tt.find('p') is not None:\n",
    "        titles.append(tt.find('p').get_text())\n",
    "#titles = [tt.find('p') for tt in title_list]\n",
    "#titles\n",
    "titles"
   ]
  },
  {
   "cell_type": "code",
   "execution_count": 6,
   "metadata": {},
   "outputs": [
    {
     "name": "stdout",
     "output_type": "stream",
     "text": [
      "None\n"
     ]
    }
   ],
   "source": [
    "print(tt.find('p'))\n"
   ]
  },
  {
   "cell_type": "markdown",
   "metadata": {},
   "source": [
    "titlesss = []\n",
    "for tt in title_list:\n",
    "        titlesss.append(tt.find('p').get_text())"
   ]
  },
  {
   "cell_type": "code",
   "execution_count": 7,
   "metadata": {},
   "outputs": [
    {
     "data": {
      "text/plain": [
       "[\"The People's Bank of China (PBOC) has set the Yuan reference rate at 6.9971 versus Monday's fix at 6.9915....\",\n",
       " 'Fitch says Chinese steel production to fall in 2020; profitability to recover',\n",
       " 'EUR/USD Technical Analysis: Positive beyond 1.1110/15 support-confluence',\n",
       " 'AUD/USD keeps losses after RBA minutes',\n",
       " 'AUD/JPY drops to intra-day low after dovish RBA minutes',\n",
       " 'RBA Minutes: Ready to ease again, economy has reached gentel turning point',\n",
       " 'NZD/USD holds below 0.66 after NZ business confidence data',\n",
       " 'USD/JPY looks for direction around 109.60 amid doubts over US-China trade/Brexit',\n",
       " 'GBP/JPY Technical Analysis: 61.8% Fibonacci questions pullback from 200-week EMA',\n",
       " 'GBP/USD drops to sub-1.3300 area amid Brexit concerns']"
      ]
     },
     "execution_count": 7,
     "metadata": {},
     "output_type": "execute_result"
    }
   ],
   "source": [
    "array=[]\n",
    "for a in titles:\n",
    "        columnspacing = a.replace(u'\\t', u'').replace(u'\\n', u'')\n",
    "        array.append(columnspacing)\n",
    "        #print(a)\n",
    "array"
   ]
  },
  {
   "cell_type": "code",
   "execution_count": 8,
   "metadata": {},
   "outputs": [],
   "source": [
    "arrays = np.array(array)"
   ]
  },
  {
   "cell_type": "code",
   "execution_count": 9,
   "metadata": {},
   "outputs": [],
   "source": [
    "df= pd.DataFrame(arrays, columns=['Heading'])"
   ]
  },
  {
   "cell_type": "code",
   "execution_count": 10,
   "metadata": {},
   "outputs": [
    {
     "data": {
      "text/plain": [
       "(10, 1)"
      ]
     },
     "execution_count": 10,
     "metadata": {},
     "output_type": "execute_result"
    }
   ],
   "source": [
    "df.shape"
   ]
  },
  {
   "cell_type": "code",
   "execution_count": 11,
   "metadata": {},
   "outputs": [
    {
     "data": {
      "text/html": [
       "<div>\n",
       "<style scoped>\n",
       "    .dataframe tbody tr th:only-of-type {\n",
       "        vertical-align: middle;\n",
       "    }\n",
       "\n",
       "    .dataframe tbody tr th {\n",
       "        vertical-align: top;\n",
       "    }\n",
       "\n",
       "    .dataframe thead th {\n",
       "        text-align: right;\n",
       "    }\n",
       "</style>\n",
       "<table border=\"1\" class=\"dataframe\">\n",
       "  <thead>\n",
       "    <tr style=\"text-align: right;\">\n",
       "      <th></th>\n",
       "      <th>Heading</th>\n",
       "    </tr>\n",
       "  </thead>\n",
       "  <tbody>\n",
       "    <tr>\n",
       "      <th>0</th>\n",
       "      <td>The People's Bank of China (PBOC) has set the ...</td>\n",
       "    </tr>\n",
       "    <tr>\n",
       "      <th>1</th>\n",
       "      <td>Fitch says Chinese steel production to fall in...</td>\n",
       "    </tr>\n",
       "    <tr>\n",
       "      <th>2</th>\n",
       "      <td>EUR/USD Technical Analysis: Positive beyond 1....</td>\n",
       "    </tr>\n",
       "    <tr>\n",
       "      <th>3</th>\n",
       "      <td>AUD/USD keeps losses after RBA minutes</td>\n",
       "    </tr>\n",
       "    <tr>\n",
       "      <th>4</th>\n",
       "      <td>AUD/JPY drops to intra-day low after dovish RB...</td>\n",
       "    </tr>\n",
       "    <tr>\n",
       "      <th>5</th>\n",
       "      <td>RBA Minutes: Ready to ease again, economy has ...</td>\n",
       "    </tr>\n",
       "    <tr>\n",
       "      <th>6</th>\n",
       "      <td>NZD/USD holds below 0.66 after NZ business con...</td>\n",
       "    </tr>\n",
       "    <tr>\n",
       "      <th>7</th>\n",
       "      <td>USD/JPY looks for direction around 109.60 amid...</td>\n",
       "    </tr>\n",
       "    <tr>\n",
       "      <th>8</th>\n",
       "      <td>GBP/JPY Technical Analysis: 61.8% Fibonacci qu...</td>\n",
       "    </tr>\n",
       "    <tr>\n",
       "      <th>9</th>\n",
       "      <td>GBP/USD drops to sub-1.3300 area amid Brexit c...</td>\n",
       "    </tr>\n",
       "  </tbody>\n",
       "</table>\n",
       "</div>"
      ],
      "text/plain": [
       "                                             Heading\n",
       "0  The People's Bank of China (PBOC) has set the ...\n",
       "1  Fitch says Chinese steel production to fall in...\n",
       "2  EUR/USD Technical Analysis: Positive beyond 1....\n",
       "3             AUD/USD keeps losses after RBA minutes\n",
       "4  AUD/JPY drops to intra-day low after dovish RB...\n",
       "5  RBA Minutes: Ready to ease again, economy has ...\n",
       "6  NZD/USD holds below 0.66 after NZ business con...\n",
       "7  USD/JPY looks for direction around 109.60 amid...\n",
       "8  GBP/JPY Technical Analysis: 61.8% Fibonacci qu...\n",
       "9  GBP/USD drops to sub-1.3300 area amid Brexit c..."
      ]
     },
     "execution_count": 11,
     "metadata": {},
     "output_type": "execute_result"
    }
   ],
   "source": [
    "df"
   ]
  },
  {
   "cell_type": "code",
   "execution_count": 12,
   "metadata": {},
   "outputs": [],
   "source": [
    "export_csv = df.to_csv (r'D:\\Data_Acquisition\\Unstructured_dataset\\dec\\17.12.csv', index = None, header=True)"
   ]
  },
  {
   "cell_type": "code",
   "execution_count": null,
   "metadata": {},
   "outputs": [],
   "source": []
  },
  {
   "cell_type": "code",
   "execution_count": null,
   "metadata": {},
   "outputs": [],
   "source": []
  },
  {
   "cell_type": "code",
   "execution_count": null,
   "metadata": {},
   "outputs": [],
   "source": []
  },
  {
   "cell_type": "code",
   "execution_count": null,
   "metadata": {},
   "outputs": [],
   "source": []
  }
 ],
 "metadata": {
  "kernelspec": {
   "display_name": "Python 3",
   "language": "python",
   "name": "python3"
  },
  "language_info": {
   "codemirror_mode": {
    "name": "ipython",
    "version": 3
   },
   "file_extension": ".py",
   "mimetype": "text/x-python",
   "name": "python",
   "nbconvert_exporter": "python",
   "pygments_lexer": "ipython3",
   "version": "3.7.0"
  }
 },
 "nbformat": 4,
 "nbformat_minor": 2
}
